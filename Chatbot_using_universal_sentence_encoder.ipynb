{
  "nbformat": 4,
  "nbformat_minor": 0,
  "metadata": {
    "colab": {
      "provenance": []
    },
    "kernelspec": {
      "name": "python3",
      "display_name": "Python 3"
    },
    "language_info": {
      "name": "python"
    }
  },
  "cells": [
    {
      "cell_type": "code",
      "source": [
        "import json\n",
        "import nltk\n",
        "import tensorflow_hub as hub\n",
        "from sklearn.metrics.pairwise import cosine_similarity\n",
        "import random\n",
        "nltk.download('punkt')"
      ],
      "metadata": {
        "colab": {
          "base_uri": "https://localhost:8080/"
        },
        "id": "YzZMfcczeXA0",
        "outputId": "aa0dc544-7ad8-4f52-f76f-a93118d13d7d"
      },
      "execution_count": 1,
      "outputs": [
        {
          "output_type": "stream",
          "name": "stderr",
          "text": [
            "[nltk_data] Downloading package punkt to /root/nltk_data...\n",
            "[nltk_data]   Unzipping tokenizers/punkt.zip.\n"
          ]
        },
        {
          "output_type": "execute_result",
          "data": {
            "text/plain": [
              "True"
            ]
          },
          "metadata": {},
          "execution_count": 1
        }
      ]
    },
    {
      "cell_type": "code",
      "source": [
        "def preprocess_text(text):\n",
        "    tokens = nltk.word_tokenize(text.lower())\n",
        "    return tokens\n"
      ],
      "metadata": {
        "id": "IMKmiDdjeYk1"
      },
      "execution_count": 2,
      "outputs": []
    },
    {
      "cell_type": "code",
      "source": [
        "def preprocess_dataset(file_path):\n",
        "    with open('magnus4.json', 'r') as file:\n",
        "        data = json.load(file)\n",
        "\n",
        "    questions = []\n",
        "    answers = []\n",
        "\n",
        "    for intent in data[\"intents\"]:\n",
        "        for pattern in intent[\"patterns\"]:\n",
        "            # Preprocess question text\n",
        "            question_tokens = preprocess_text(pattern)\n",
        "            questions.append(' '.join(question_tokens))\n",
        "            answers.append(intent[\"responses\"])\n",
        "\n",
        "    return questions, answers"
      ],
      "metadata": {
        "id": "jfYGKrk-egkl"
      },
      "execution_count": 8,
      "outputs": []
    },
    {
      "cell_type": "code",
      "source": [
        "def encode_sentences(sentences):\n",
        "    # Load Universal Sentence Encoder model\n",
        "    embed = hub.load(\"https://tfhub.dev/google/universal-sentence-encoder/4\")\n",
        "\n",
        "    # Encode sentences into embeddings\n",
        "    embeddings = embed(sentences)\n",
        "    return embeddings.numpy()"
      ],
      "metadata": {
        "id": "D8m5qFCIeqtu"
      },
      "execution_count": 9,
      "outputs": []
    },
    {
      "cell_type": "code",
      "source": [
        "def get_most_similar_question(input_question, questions, embeddings):\n",
        "    input_embedding = encode_sentences([input_question])[0]\n",
        "\n",
        "    similarity_scores = cosine_similarity([input_embedding], embeddings)[0]\n",
        "\n",
        "    most_similar_index = similarity_scores.argmax()\n",
        "    return questions[most_similar_index]\n"
      ],
      "metadata": {
        "id": "zqPtH7weezAm"
      },
      "execution_count": 10,
      "outputs": []
    },
    {
      "cell_type": "code",
      "source": [
        "def get_random_reply(replies):\n",
        "  return random.choice(replies)"
      ],
      "metadata": {
        "id": "JGb-FssdkRWt"
      },
      "execution_count": 11,
      "outputs": []
    },
    {
      "cell_type": "code",
      "source": [
        "file_path = 'dataset.json'\n",
        "questions, answers = preprocess_dataset(file_path)\n",
        "embeddings = encode_sentences(questions)\n",
        "#encode the set of questions\n",
        "\n",
        "print(\"ChatBot: Hello! How can I assist you today?\")\n",
        "\n",
        "while True:\n",
        "    input_question = input(\"User: \")\n",
        "\n",
        "    if input_question.lower() in ['exit', 'quit','done']:\n",
        "        print(\"ChatBot: Goodbye! Have a great day...\")\n",
        "        break\n",
        "\n",
        "    most_similar_question = get_most_similar_question(input_question, questions, embeddings)\n",
        "    index = questions.index(most_similar_question)\n",
        "    response = get_random_reply(answers[index])\n",
        "\n",
        "    print(\"ChatBot:\", response)"
      ],
      "metadata": {
        "colab": {
          "base_uri": "https://localhost:8080/"
        },
        "id": "RTK_m-2te2Oi",
        "outputId": "e3ca44a2-42c9-4f43-f1ad-c5d8487a1454"
      },
      "execution_count": 12,
      "outputs": [
        {
          "output_type": "stream",
          "name": "stdout",
          "text": [
            "ChatBot: Hello! How can I assist you today?\n",
            "User: What all colors are available for magnusEX\n",
            "ChatBot: The Magnus EX comes in 5 iconic colors- Metallic Red, Galactic Grey, Graphite Black, Glacial White and Ocean Blue\n",
            "User: What is the cost?\n",
            "ChatBot: Enter your State\n",
            "User: assam\n",
            "ChatBot: Rs 106,900\n",
            "User: Done\n",
            "ChatBot: Goodbye! Have a great day...\n"
          ]
        }
      ]
    },
    {
      "cell_type": "code",
      "source": [],
      "metadata": {
        "id": "cC5DOdzne6E1"
      },
      "execution_count": null,
      "outputs": []
    }
  ]
}